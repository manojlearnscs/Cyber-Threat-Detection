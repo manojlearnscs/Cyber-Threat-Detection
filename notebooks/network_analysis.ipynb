import pandas as pd
import matplotlib.pyplot as plt

# Load the dataset
df = pd.read_csv(r'C:\Users\Manoj\Desktop\Cyber-Threat-Detection\data\network_traffic.csv')


# Display basic info about the dataset
print(df.info())
print(df.head())

# Plot the bytes used per protocol
protocols = df.groupby('protocol')['bytes'].sum()
protocols.plot(kind='bar')
plt.title('Total bytes used per protocol')
plt.xlabel('Protocol')
plt.ylabel('Bytes')
plt.show()
